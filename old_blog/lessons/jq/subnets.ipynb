{
 "cells": [
  {
   "cell_type": "code",
   "execution_count": 11,
   "metadata": {},
   "outputs": [],
   "source": [
    "import os\n",
    "import json\n",
    "import gitlab\n",
    "import boto3\n",
    "import pandas as pd\n"
   ]
  },
  {
   "cell_type": "code",
   "execution_count": 12,
   "metadata": {},
   "outputs": [],
   "source": [
    "ec2 = boto3.client('ec2')"
   ]
  },
  {
   "cell_type": "code",
   "execution_count": 17,
   "metadata": {},
   "outputs": [
    {
     "output_type": "execute_result",
     "data": {
      "text/plain": "{'Subnets': [{'AvailabilityZone': 'eu-west-1b',\n   'AvailabilityZoneId': 'euw1-az2',\n   'AvailableIpAddressCount': 247,\n   'CidrBlock': '172.26.37.0/24',\n   'DefaultForAz': False,\n   'MapPublicIpOnLaunch': False,\n   'State': 'available',\n   'SubnetId': 'subnet-0f9bcab611aca5359',\n   'VpcId': 'vpc-05937502401376da1',\n   'OwnerId': '215418463085',\n   'AssignIpv6AddressOnCreation': False,\n   'Ipv6CidrBlockAssociationSet': [],\n   'Tags': [{'Key': 'Name', 'Value': 'datalake-dev-g2z2'}],\n   'SubnetArn': 'arn:aws:ec2:eu-west-1:215418463085:subnet/subnet-0f9bcab611aca5359'}],\n 'ResponseMetadata': {'RequestId': 'd5568975-a03e-43ef-9da5-f0f8f7f5bdcb',\n  'HTTPStatusCode': 200,\n  'HTTPHeaders': {'x-amzn-requestid': 'd5568975-a03e-43ef-9da5-f0f8f7f5bdcb',\n   'content-type': 'text/xml;charset=UTF-8',\n   'content-length': '1204',\n   'date': 'Sat, 20 Jun 2020 15:26:51 GMT',\n   'server': 'AmazonEC2'},\n  'RetryAttempts': 0}}"
     },
     "metadata": {},
     "execution_count": 17
    }
   ],
   "source": [
    "out = ec2.describe_subnets(SubnetIds=['subnet-0f9bcab611aca5359'])\n",
    "out"
   ]
  },
  {
   "cell_type": "code",
   "execution_count": 16,
   "metadata": {},
   "outputs": [
    {
     "output_type": "execute_result",
     "data": {
      "text/plain": "'eu-west-1b'"
     },
     "metadata": {},
     "execution_count": 16
    }
   ],
   "source": [
    "out['Subnets'][0]['AvailabilityZone']"
   ]
  },
  {
   "cell_type": "code",
   "execution_count": null,
   "metadata": {},
   "outputs": [],
   "source": [
    "ec2.describe_spot_price_history()"
   ]
  }
 ],
 "metadata": {
  "language_info": {
   "codemirror_mode": {
    "name": "ipython",
    "version": 3
   },
   "file_extension": ".py",
   "mimetype": "text/x-python",
   "name": "python",
   "nbconvert_exporter": "python",
   "pygments_lexer": "ipython3",
   "version": 3
  },
  "orig_nbformat": 2,
  "kernelspec": {
   "name": "python_defaultSpec_1592662079061",
   "display_name": "Python 3.8.2 64-bit"
  }
 },
 "nbformat": 4,
 "nbformat_minor": 2
}